{
 "cells": [
  {
   "cell_type": "markdown",
   "id": "2841b365",
   "metadata": {},
   "source": [
    "# Multimodal RAG: Pipeline Demo\n",
    "\n",
    "Мета - побудувати мультимодальну RAG-систему на базі статей з The Batch, що включає і текст, і зображення.\n",
    "### Щоб працював StremLit додаток необхідно запустити кроки 1-5\n"
   ]
  },
  {
   "cell_type": "code",
   "execution_count": 25,
   "id": "05019de1",
   "metadata": {},
   "outputs": [],
   "source": [
    "## бібліотеки\n",
    "import requests\n",
    "from bs4 import BeautifulSoup\n",
    "from langchain_community.document_loaders import WebBaseLoader\n",
    "from langchain.text_splitter import RecursiveCharacterTextSplitter # для поділу тексту на шматки\n",
    "from PIL import Image\n",
    "from chromadb.utils.embedding_functions import OpenCLIPEmbeddingFunction\n",
    "import chromadb\n",
    "import os\n",
    "import numpy as np\n",
    "from dotenv import load_dotenv\n",
    "from google import genai\n",
    "from google.genai import types\n",
    "\n",
    "load_dotenv()\n",
    "\n",
    "api_key = os.getenv(\"GOOGLE_API\")\n",
    "\n",
    "# from huggingface_hub import InferenceClient # для (типу) хорошої відповіді\n",
    "# from transformers import BlipProcessor, BlipForConditionalGeneration # для опису зображень\n",
    "# from chromadb.utils.data_loaders import ImageLoader\n",
    "# from langchain.embeddings import HuggingFaceEmbeddings # для embeddings - лише текстової"
   ]
  },
  {
   "cell_type": "markdown",
   "id": "05f8abef",
   "metadata": {},
   "source": [
    "## 1. Завантаження статей та зображень\n",
    "Витягуємо текст і картинку"
   ]
  },
  {
   "cell_type": "code",
   "execution_count": 26,
   "id": "73f59b0c",
   "metadata": {},
   "outputs": [],
   "source": [
    "# url = \"https://www.deeplearning.ai/the-batch/google-upgrades-its-ai-music-tools-for-professional-use/\"\n",
    "urls = [\"https://www.deeplearning.ai/the-batch/the-international-energy-agency-examines-the-energy-costs-and-potential-savings-of-the-ai-boom/\",\"https://www.deeplearning.ai/the-batch/ai-co-scientist-an-agent-that-generates-research-hypotheses-aiding-drug-discovery/\",\"https://www.deeplearning.ai/the-batch/ai-and-data-center-boom-challenges-big-techs-emissions-targets/\"]\n"
   ]
  },
  {
   "cell_type": "markdown",
   "id": "83aacbd9",
   "metadata": {},
   "source": [
    "далі треба якось спарсити все те"
   ]
  },
  {
   "cell_type": "code",
   "execution_count": 27,
   "id": "23c5f608",
   "metadata": {},
   "outputs": [
    {
     "name": "stdout",
     "output_type": "stream",
     "text": [
      "https://www.deeplearning.ai/the-batch/the-international-energy-agency-examines-the-energy-costs-and-potential-savings-of-the-ai-boom/ - Знайдено contents 1 елементs\n",
      "https://www.deeplearning.ai/the-batch/the-international-energy-agency-examines-the-energy-costs-and-potential-savings-of-the-ai-boom/ - Знайдено imgs 1 елементs\n",
      "https://www.deeplearning.ai/the-batch/ai-co-scientist-an-agent-that-generates-research-hypotheses-aiding-drug-discovery/ - Знайдено contents 1 елементs\n",
      "https://www.deeplearning.ai/the-batch/ai-co-scientist-an-agent-that-generates-research-hypotheses-aiding-drug-discovery/ - Знайдено imgs 2 елементs\n",
      "https://www.deeplearning.ai/the-batch/ai-and-data-center-boom-challenges-big-techs-emissions-targets/ - Знайдено contents 1 елементs\n",
      "https://www.deeplearning.ai/the-batch/ai-and-data-center-boom-challenges-big-techs-emissions-targets/ - Знайдено imgs 3 елементs\n"
     ]
    },
    {
     "data": {
      "text/plain": [
       "[['/_next/image/?url=https%3A%2F%2Fcharonhub.deeplearning.ai%2Fcontent%2Fimages%2F2025%2F06%2Funnamed---2025-06-04T165349.311-1.png&w=3840&q=75'],\n",
       " ['/_next/image/?url=https%3A%2F%2Fcharonhub.deeplearning.ai%2Fcontent%2Fimages%2F2025%2F03%2Funnamed--65--1.png&w=3840&q=75'],\n",
       " ['/_next/image/?url=https%3A%2F%2Fcharonhub.deeplearning.ai%2Fcontent%2Fimages%2F2024%2F07%2Funnamed--70--1.jpg&w=3840&q=75']]"
      ]
     },
     "execution_count": 27,
     "metadata": {},
     "output_type": "execute_result"
    }
   ],
   "source": [
    "contents = []\n",
    "images = []\n",
    "for url in urls:\n",
    "    response = requests.get(url)\n",
    "    soup = BeautifulSoup(response.text, 'lxml')\n",
    "    initial_images = [img.get('src') for img in soup.find_all('img') if img.get('src')]\n",
    "    images.append([url for url in initial_images if 'gif' not in url.lower() and 'wordpress' not in url.lower() and 'svg+xml' not in url.lower() and 'batch-logo' not in url.lower()])\n",
    "    elements = soup.select(\".prose--styled\") # вибираєсмо класи, записується в зворотньому порядку\n",
    "    print(f\"{url} - Знайдено contents {len(elements)} елементs\")\n",
    "    print(f\"{url} - Знайдено imgs {len(images)} елементs\")\n",
    "    contents.append(elements[0].get_text(separator=' ')) # нормальний текст\n",
    "contents\n",
    "images    "
   ]
  },
  {
   "cell_type": "markdown",
   "id": "c665ed17",
   "metadata": {},
   "source": [
    "## 2. Препроцесінг тексту та зображень"
   ]
  },
  {
   "cell_type": "markdown",
   "id": "d6f23db1",
   "metadata": {},
   "source": [
    "витягнений текст"
   ]
  },
  {
   "cell_type": "code",
   "execution_count": 28,
   "id": "771e667e",
   "metadata": {},
   "outputs": [],
   "source": [
    "for content in contents:\n",
    "    loader = WebBaseLoader(web_paths=urls)\n",
    "    text_docs = loader.load()\n",
    "text_docs[0].page_content = content"
   ]
  },
  {
   "cell_type": "code",
   "execution_count": null,
   "id": "c0273829",
   "metadata": {},
   "outputs": [],
   "source": [
    "### перевірка (можна пропустити)\n",
    "(len(text_docs))"
   ]
  },
  {
   "cell_type": "markdown",
   "id": "f742e011",
   "metadata": {},
   "source": [
    "збереження зображення"
   ]
  },
  {
   "cell_type": "code",
   "execution_count": 29,
   "id": "7a28832b",
   "metadata": {},
   "outputs": [],
   "source": [
    "prefix = \"https://www.deeplearning.ai\"\n",
    "img_dir = \"downloaded_images\"\n",
    "os.makedirs(img_dir, exist_ok=True)\n",
    "\n",
    "count = 0\n",
    "for image_urls in images:\n",
    "    for img_url in image_urls:\n",
    "        resp = requests.get(prefix+img_url)\n",
    "        ext_part = img_url.split('.')[-1] # Відокремлюємо частину після останньої крапки, а потім беремо до ? або &\n",
    "        ext = ext_part.split('?')[0].split('&')[0]  # Обрізаємо параметри\n",
    "        filename = f\"img_{count}.{ext}\"\n",
    "        filepath = os.path.join(img_dir, filename)\n",
    "        with open(filepath, \"wb\") as f:\n",
    "            f.write(resp.content)\n",
    "        # print(resp)\n",
    "        count += 1"
   ]
  },
  {
   "cell_type": "markdown",
   "id": "4789d5ea",
   "metadata": {},
   "source": [
    "перетворення зображень на numpy масив"
   ]
  },
  {
   "cell_type": "code",
   "execution_count": 30,
   "id": "00f65686",
   "metadata": {},
   "outputs": [
    {
     "name": "stdout",
     "output_type": "stream",
     "text": [
      "Завантажено та конвертовано 3 images у numpy\n"
     ]
    }
   ],
   "source": [
    "img_dir = \"downloaded_images\"\n",
    "numpy_images = []\n",
    "\n",
    "for filename in os.listdir(img_dir):\n",
    "    filepath = os.path.join(img_dir, filename)\n",
    "    with Image.open(filepath) as img:\n",
    "        img = img.convert(\"RGB\") \n",
    "        np_img = np.array(img)\n",
    "        numpy_images.append(np_img)\n",
    "\n",
    "print(f\"Завантажено та конвертовано {len(numpy_images)} images у numpy\")"
   ]
  },
  {
   "cell_type": "markdown",
   "id": "6fbb916f",
   "metadata": {},
   "source": [
    "### поділ тексту"
   ]
  },
  {
   "cell_type": "markdown",
   "id": "057d37e2",
   "metadata": {},
   "source": [
    "використовуємо langchain для поділу тексту на шматки"
   ]
  },
  {
   "cell_type": "code",
   "execution_count": 31,
   "id": "1daa9d3b",
   "metadata": {},
   "outputs": [
    {
     "name": "stdout",
     "output_type": "stream",
     "text": [
      "Split post into 54 sub-documents.\n"
     ]
    }
   ],
   "source": [
    "all_text_splits = []\n",
    "\n",
    "for text_doc in text_docs:\n",
    "    text_splitter = RecursiveCharacterTextSplitter(\n",
    "    chunk_size=1000,  # chunk size (characters)\n",
    "    chunk_overlap=100,  # chunk overlap (characters) (перекриття між суміжними шматками (50 символів (або слів) з кінця попереднього шматка повторюються на початку наступного)\n",
    "    add_start_index=True,  # track index in original document\n",
    "    )\n",
    "\n",
    "    all_text_splits += text_splitter.split_documents(text_docs)\n",
    "\n",
    "print(f\"Split post into {len(all_text_splits)} sub-documents.\")"
   ]
  },
  {
   "cell_type": "markdown",
   "id": "b42d31a1",
   "metadata": {},
   "source": [
    "## 3-4 мультимодальний ембединг\n"
   ]
  },
  {
   "cell_type": "code",
   "execution_count": 32,
   "id": "ef9c270d",
   "metadata": {},
   "outputs": [],
   "source": [
    "embedding_function = OpenCLIPEmbeddingFunction()"
   ]
  },
  {
   "cell_type": "markdown",
   "id": "69875dce",
   "metadata": {},
   "source": [
    "## 5. Створення мультимодального індексу"
   ]
  },
  {
   "cell_type": "markdown",
   "id": "55a74ab0",
   "metadata": {},
   "source": [
    "### метадані та ід"
   ]
  },
  {
   "cell_type": "code",
   "execution_count": 33,
   "id": "5d486bf1",
   "metadata": {},
   "outputs": [],
   "source": [
    "### id\n",
    "text_ids = [f\"text_{i}\" for i in range(len(all_text_splits))] # ід для тексту\n",
    "image_ids = [f\"img_{i}\" for i in range(len(numpy_images))] # ід для зображень\n",
    "# img_description_ids = [f\"img_desc_{i}\" for i in range(len(numpy_images))] # id опису зображень\n",
    "\n",
    "text_documents = [doc.page_content for doc in all_text_splits] # для хрома (бо док-лангчеін не їсть)"
   ]
  },
  {
   "cell_type": "code",
   "execution_count": 34,
   "id": "9776e93b",
   "metadata": {},
   "outputs": [],
   "source": [
    "text_metadatas = []\n",
    "for split in all_text_splits:\n",
    "    text_metadatas.append({\n",
    "        \"type\": \"text\",\n",
    "        \"source\": split.metadata.get(\"source\", \"unknown\"),  # якщо є\n",
    "        \"title\": split.metadata.get(\"title\", \"no_title\"),\n",
    "    })\n",
    "\n",
    "image_metadatas = []\n",
    "for text_doc in text_docs:\n",
    "    image_metadatas.append({\n",
    "        \"type\": \"image\",\n",
    "        \"source\": text_doc.metadata.get(\"source\", \"unknown\"),  # якщо є\n",
    "        \"title\": text_doc.metadata.get(\"title\", \"no_title\"),\n",
    "        \"local_path\": img_dir + ''\n",
    "        \n",
    "    })    \n",
    "\n",
    "# img_desc_metadatas = [] - на перспективу\n",
    "# for text_doc,id_img in zip(text_docs,image_ids):\n",
    "#     img_desc_metadatas.append({\n",
    "#         \"type\": \"text\",\n",
    "#         \"source\": text_doc.metadata.get(\"source\", \"unknown\"),  # якщо є\n",
    "#         \"title\": text_doc.metadata.get(\"title\", \"no_title\"),\n",
    "#         \"image_ids\": id_img,\n",
    "#     })        "
   ]
  },
  {
   "cell_type": "code",
   "execution_count": null,
   "id": "205b32bd",
   "metadata": {},
   "outputs": [],
   "source": [
    "#перевірка (optional)\n",
    "print(text_metadatas)\n",
    "print(image_metadatas)\n",
    "# print(img_desc_metadatas)"
   ]
  },
  {
   "cell_type": "markdown",
   "id": "6aaca4dd",
   "metadata": {},
   "source": [
    "### також додамо опис для зображень (SKIP)"
   ]
  },
  {
   "cell_type": "code",
   "execution_count": null,
   "id": "f81063be",
   "metadata": {},
   "outputs": [],
   "source": [
    "# processor = BlipProcessor.from_pretrained(\"Salesforce/blip-image-captioning-base\")\n",
    "# model = BlipForConditionalGeneration.from_pretrained(\"Salesforce/blip-image-captioning-base\")\n",
    "\n",
    "# def generate_caption(image):\n",
    "#     inputs = processor(image, return_tensors=\"pt\")\n",
    "#     out = model.generate(**inputs)\n",
    "#     caption = processor.decode(out[0], skip_special_tokens=True)\n",
    "#     return caption"
   ]
  },
  {
   "cell_type": "code",
   "execution_count": null,
   "id": "2c895a02",
   "metadata": {},
   "outputs": [],
   "source": [
    "# image_description = []\n",
    "# for img in numpy_images:\n",
    "#     img_pil = Image.fromarray(img)\n",
    "#     caption = generate_caption(img_pil)\n",
    "#     image_description.append(caption)    "
   ]
  },
  {
   "cell_type": "code",
   "execution_count": null,
   "id": "67482755",
   "metadata": {},
   "outputs": [],
   "source": [
    "# print(image_description)"
   ]
  },
  {
   "cell_type": "markdown",
   "id": "d0d94013",
   "metadata": {},
   "source": [
    "### add до бд"
   ]
  },
  {
   "cell_type": "code",
   "execution_count": null,
   "id": "5f13228e",
   "metadata": {},
   "outputs": [],
   "source": [
    "# data_loader = ImageLoader() # для зберігання з uris \n",
    "client = chromadb.PersistentClient(path=\"chroma_langchain_db/\") # для збереження локально\n",
    "\n",
    "collection = client.create_collection(\n",
    "    name='multimodal_collection',\n",
    "    embedding_function=embedding_function,\n",
    "    # data_loader=data_loader,\n",
    ")"
   ]
  },
  {
   "cell_type": "code",
   "execution_count": null,
   "id": "54732609",
   "metadata": {},
   "outputs": [],
   "source": [
    "###додаєм до век бд текст\n",
    "collection.add(\n",
    "    ids=text_ids, \n",
    "    documents=text_documents,\n",
    "    metadatas=text_metadatas,\n",
    "               )"
   ]
  },
  {
   "cell_type": "code",
   "execution_count": null,
   "id": "b86228f1",
   "metadata": {},
   "outputs": [],
   "source": [
    "###додаєм до век бд зображення\n",
    "collection.add(\n",
    "    ids=image_ids,\n",
    "    images=numpy_images,\n",
    "    metadatas=image_metadatas,\n",
    ")"
   ]
  },
  {
   "cell_type": "code",
   "execution_count": null,
   "id": "0179a649",
   "metadata": {},
   "outputs": [],
   "source": [
    "# SKIP\n",
    "# ###додаєм до век бд описи зображення\n",
    "# collection.add(\n",
    "#     ids=img_description_ids,\n",
    "#     documents=image_description,\n",
    "#     metadatas=image_metadatas,\n",
    "# )"
   ]
  },
  {
   "cell_type": "code",
   "execution_count": null,
   "id": "8957bca8",
   "metadata": {},
   "outputs": [],
   "source": [
    "# перевірка (optional)\n",
    "print(collection.count())\n"
   ]
  },
  {
   "cell_type": "markdown",
   "id": "865e65fe",
   "metadata": {},
   "source": [
    "## 6. Запит і Ретрівал (тести) (optional)\n",
    "\n",
    "- Користувач формулює запит (наприклад: “Що нового в архітектурах NVIDIA?”).\n",
    "- Вивід: текст статті + пов’язане зображення."
   ]
  },
  {
   "cell_type": "code",
   "execution_count": 35,
   "id": "dbda46c7",
   "metadata": {},
   "outputs": [],
   "source": [
    "##якщо є готова колекція, то запустити\n",
    "client = chromadb.PersistentClient(path=\"chroma_langchain_db\")\n",
    "collection = client.get_collection(name=\"multimodal_collection\")"
   ]
  },
  {
   "cell_type": "code",
   "execution_count": 39,
   "id": "f22d44b4",
   "metadata": {},
   "outputs": [
    {
     "name": "stdout",
     "output_type": "stream",
     "text": [
      "{'ids': [['img_0', 'img_1', 'img_2', 'text_14', 'text_32', 'text_50', 'text_9', 'text_27', 'text_45', 'text_22']], 'embeddings': None, 'documents': [[None, None, None, 'have increased more than four-fold since 2019.Low-emissions energy has reduced Google’s total data-center emissions substantially, but some regions don’t have enough of it to meet demand. Solar, wind, hydro, geothermal, and nuclear energy account for most of the energy consumed by Google’s data centers in Europe, Canada, and South America. However, these sources account for less than 5 percent in Singapore, Qatar, and Saudi Arabia.Countering the trend:\\xa0Google is working to reduce its greenhouse gas emissions on several fronts. Its effort to purchase electricity from low-emissions sources cut its net carbon footprint by around 30 percent in 2023. It claims that its owned-and-operated data centers are 1.8 times more energy-efficient than a typical enterprise data center, and its sixth-generation tensor processing units (TPUs) are 67 percent more efficient than the prior generation. Google has asked its largest hardware partners to match 100 percent of their energy consumption with', 'have increased more than four-fold since 2019.Low-emissions energy has reduced Google’s total data-center emissions substantially, but some regions don’t have enough of it to meet demand. Solar, wind, hydro, geothermal, and nuclear energy account for most of the energy consumed by Google’s data centers in Europe, Canada, and South America. However, these sources account for less than 5 percent in Singapore, Qatar, and Saudi Arabia.Countering the trend:\\xa0Google is working to reduce its greenhouse gas emissions on several fronts. Its effort to purchase electricity from low-emissions sources cut its net carbon footprint by around 30 percent in 2023. It claims that its owned-and-operated data centers are 1.8 times more energy-efficient than a typical enterprise data center, and its sixth-generation tensor processing units (TPUs) are 67 percent more efficient than the prior generation. Google has asked its largest hardware partners to match 100 percent of their energy consumption with', 'have increased more than four-fold since 2019.Low-emissions energy has reduced Google’s total data-center emissions substantially, but some regions don’t have enough of it to meet demand. Solar, wind, hydro, geothermal, and nuclear energy account for most of the energy consumed by Google’s data centers in Europe, Canada, and South America. However, these sources account for less than 5 percent in Singapore, Qatar, and Saudi Arabia.Countering the trend:\\xa0Google is working to reduce its greenhouse gas emissions on several fronts. Its effort to purchase electricity from low-emissions sources cut its net carbon footprint by around 30 percent in 2023. It claims that its owned-and-operated data centers are 1.8 times more energy-efficient than a typical enterprise data center, and its sixth-generation tensor processing units (TPUs) are 67 percent more efficient than the prior generation. Google has asked its largest hardware partners to match 100 percent of their energy consumption with', 'meta-review agent identifies common patterns in the reflection agent’s reviews and the ranking agent’s debates. Its feedback goes to the reflection and generation agents, which use it to address common factors in future reviews and avoid generating similar proposals, respectively.Results:\\xa0AI co-scientist achieved a number of impressive biomedical results in tests.Google researchers generated proposals for experiments that would repurpose drugs to treat acute myeloid leukemia. They shared the 30 highest-ranked proposals with human experts, who chose five for lab tests. Of the five drugs tested, three killed acute myeloid leukemia cells.Experts selected three among 15 top-ranked generated proposals that proposed repurposing existing drugs to treat liver fibrosis. Two significantly inhibited liver fibrosis without being toxic to general cells. (Prior to this research, one of the drugs was approved by the United States Food and Drug Administration for a different illness, which may lead', 'meta-review agent identifies common patterns in the reflection agent’s reviews and the ranking agent’s debates. Its feedback goes to the reflection and generation agents, which use it to address common factors in future reviews and avoid generating similar proposals, respectively.Results:\\xa0AI co-scientist achieved a number of impressive biomedical results in tests.Google researchers generated proposals for experiments that would repurpose drugs to treat acute myeloid leukemia. They shared the 30 highest-ranked proposals with human experts, who chose five for lab tests. Of the five drugs tested, three killed acute myeloid leukemia cells.Experts selected three among 15 top-ranked generated proposals that proposed repurposing existing drugs to treat liver fibrosis. Two significantly inhibited liver fibrosis without being toxic to general cells. (Prior to this research, one of the drugs was approved by the United States Food and Drug Administration for a different illness, which may lead', 'meta-review agent identifies common patterns in the reflection agent’s reviews and the ranking agent’s debates. Its feedback goes to the reflection and generation agents, which use it to address common factors in future reviews and avoid generating similar proposals, respectively.Results:\\xa0AI co-scientist achieved a number of impressive biomedical results in tests.Google researchers generated proposals for experiments that would repurpose drugs to treat acute myeloid leukemia. They shared the 30 highest-ranked proposals with human experts, who chose five for lab tests. Of the five drugs tested, three killed acute myeloid leukemia cells.Experts selected three among 15 top-ranked generated proposals that proposed repurposing existing drugs to treat liver fibrosis. Two significantly inhibited liver fibrosis without being toxic to general cells. (Prior to this research, one of the drugs was approved by the United States Food and Drug Administration for a different illness, which may lead', 'relieved to note that, for now, data centers and cloud computing are responsible for\\xa0 1 percent \\xa0of the world’s energy-related greenhouse gas emissions; a drop in the bucket compared to transportation, construction, or agriculture. Moreover, we believe that AI stands to create huge benefits relative to the climate impact of its emissions, and AI is one of the most powerful tools we have to develop low-carbon energy sources and boost energy efficiency throughout society. Continuing to improve the technology will help us develop lower-carbon energy sources and efficient ways to harness them.']], 'uris': None, 'included': ['metadatas', 'documents', 'distances'], 'data': None, 'metadatas': [[{'source': 'https://www.deeplearning.ai/the-batch/the-international-energy-agency-examines-the-energy-costs-and-potential-savings-of-the-ai-boom/', 'title': 'The International Energy Agency Examines The Energy Costs and Potential Savings of the AI Boom', 'type': 'image'}, {'source': 'https://www.deeplearning.ai/the-batch/ai-co-scientist-an-agent-that-generates-research-hypotheses-aiding-drug-discovery/', 'title': 'AI Co-Scientist, An Agent That Generates Research Hypotheses, Aiding Drug Discovery', 'type': 'image'}, {'type': 'image', 'title': \"AI and Data Center Boom Challenges Big Tech's Emissions Targets\", 'source': 'https://www.deeplearning.ai/the-batch/ai-and-data-center-boom-challenges-big-techs-emissions-targets/'}, {'type': 'text', 'title': \"AI and Data Center Boom Challenges Big Tech's Emissions Targets\", 'source': 'https://www.deeplearning.ai/the-batch/ai-and-data-center-boom-challenges-big-techs-emissions-targets/'}, {'type': 'text', 'source': 'https://www.deeplearning.ai/the-batch/ai-and-data-center-boom-challenges-big-techs-emissions-targets/', 'title': \"AI and Data Center Boom Challenges Big Tech's Emissions Targets\"}, {'title': \"AI and Data Center Boom Challenges Big Tech's Emissions Targets\", 'type': 'text', 'source': 'https://www.deeplearning.ai/the-batch/ai-and-data-center-boom-challenges-big-techs-emissions-targets/'}, {'source': 'https://www.deeplearning.ai/the-batch/ai-co-scientist-an-agent-that-generates-research-hypotheses-aiding-drug-discovery/', 'type': 'text', 'title': 'AI Co-Scientist, An Agent That Generates Research Hypotheses, Aiding Drug Discovery'}, {'source': 'https://www.deeplearning.ai/the-batch/ai-co-scientist-an-agent-that-generates-research-hypotheses-aiding-drug-discovery/', 'title': 'AI Co-Scientist, An Agent That Generates Research Hypotheses, Aiding Drug Discovery', 'type': 'text'}, {'type': 'text', 'source': 'https://www.deeplearning.ai/the-batch/ai-co-scientist-an-agent-that-generates-research-hypotheses-aiding-drug-discovery/', 'title': 'AI Co-Scientist, An Agent That Generates Research Hypotheses, Aiding Drug Discovery'}, {'source': 'https://www.deeplearning.ai/the-batch/the-international-energy-agency-examines-the-energy-costs-and-potential-savings-of-the-ai-boom/', 'title': 'The International Energy Agency Examines The Energy Costs and Potential Savings of the AI Boom', 'type': 'text'}]], 'distances': [[0.0, 1.125572919845581, 1.1411538124084473, 1.4652774333953857, 1.4652774333953857, 1.4652774333953857, 1.5138983726501465, 1.5138983726501465, 1.5138983726501465, 1.5161592960357666]]}\n"
     ]
    }
   ],
   "source": [
    "#тест на зображенні (SKIP)\n",
    "results = collection.query(\n",
    "    query_images=[numpy_images[0]]\n",
    ")\n",
    "\n",
    "print((results))"
   ]
  },
  {
   "cell_type": "code",
   "execution_count": 38,
   "id": "6308f6ff",
   "metadata": {},
   "outputs": [
    {
     "name": "stdout",
     "output_type": "stream",
     "text": [
      "{'ids': [['text_16', 'text_34', 'text_52', 'text_12', 'text_30', 'text_48', 'text_4', 'text_22', 'text_40', 'text_39']], 'embeddings': None, 'documents': [['revenues were roughly triple Google’s in 2023 and thus their AI-related greenhouse case emissions\\xa0 presumably were larger.)Why it matters:\\xa0Growing use of AI means greater consumption of energy. The tech giants’ ambitious emissions goals predate the rapid growth of generative AI, and their latest reports show that it’s time to rethink them. This adds urgency to already critical efforts to develop renewable and other low-emissions energy sources.\\xa0We’re thinking:\\xa0We applaud Google’s efforts to cut its carbon emissions and its transparency in issuing annual environmental reports. We’re somewhat relieved to note that, for now, data centers and cloud computing are responsible for\\xa01 percent\\xa0of the world’s energy-related greenhouse gas emissions; a drop in the bucket compared to transportation, construction, or agriculture. Moreover, we believe that AI stands to create huge benefits relative to the climate impact of its emissions, and AI is one of the most powerful tools we have to develop', 'revenues were roughly triple Google’s in 2023 and thus their AI-related greenhouse case emissions\\xa0 presumably were larger.)Why it matters:\\xa0Growing use of AI means greater consumption of energy. The tech giants’ ambitious emissions goals predate the rapid growth of generative AI, and their latest reports show that it’s time to rethink them. This adds urgency to already critical efforts to develop renewable and other low-emissions energy sources.\\xa0We’re thinking:\\xa0We applaud Google’s efforts to cut its carbon emissions and its transparency in issuing annual environmental reports. We’re somewhat relieved to note that, for now, data centers and cloud computing are responsible for\\xa01 percent\\xa0of the world’s energy-related greenhouse gas emissions; a drop in the bucket compared to transportation, construction, or agriculture. Moreover, we believe that AI stands to create huge benefits relative to the climate impact of its emissions, and AI is one of the most powerful tools we have to develop', 'revenues were roughly triple Google’s in 2023 and thus their AI-related greenhouse case emissions\\xa0 presumably were larger.)Why it matters:\\xa0Growing use of AI means greater consumption of energy. The tech giants’ ambitious emissions goals predate the rapid growth of generative AI, and their latest reports show that it’s time to rethink them. This adds urgency to already critical efforts to develop renewable and other low-emissions energy sources.\\xa0We’re thinking:\\xa0We applaud Google’s efforts to cut its carbon emissions and its transparency in issuing annual environmental reports. We’re somewhat relieved to note that, for now, data centers and cloud computing are responsible for\\xa01 percent\\xa0of the world’s energy-related greenhouse gas emissions; a drop in the bucket compared to transportation, construction, or agriculture. Moreover, we believe that AI stands to create huge benefits relative to the climate impact of its emissions, and AI is one of the most powerful tools we have to develop', \"AI and Data Center Boom Challenges Big Tech's Emissions Targets✨ New course! Enroll in Building with Llama 4Explore CoursesAI NewsletterThe BatchAndrew's LetterData PointsML ResearchBlogCommunityForumEventsAmbassadorsAmbassador SpotlightResourcesCompanyAboutCareersContactStart LearningWeekly IssuesAndrew's LettersData PointsML ResearchBusinessScienceCultureHardwareAI CareersAboutSubscribeThe BatchTech & SocietyArticleAI’s Path to Zero Emissions Is Cloudy AI and data center boom challenges big tech's emissions targetsTech & SocietyScience#Import 2025-06-13 02:32PublishedJul 10, 2024Reading time3 min readShareThe boom in AI is jeopardizing big tech’s efforts to reach its targets for emissions of greenhouse gasses.What’s new:\\xa0Google’s\\xa0annual environmental report\\xa0shows that the company’s total carbon dioxide emissions rose nearly 50 percent between 2019 and 2023 to 14.3 million tons. Google attributes the rise to its efforts to satisfy rising demand for AI.\\xa0How it works:\\xa0Google’s carbon\", \"AI and Data Center Boom Challenges Big Tech's Emissions Targets✨ New course! Enroll in Building with Llama 4Explore CoursesAI NewsletterThe BatchAndrew's LetterData PointsML ResearchBlogCommunityForumEventsAmbassadorsAmbassador SpotlightResourcesCompanyAboutCareersContactStart LearningWeekly IssuesAndrew's LettersData PointsML ResearchBusinessScienceCultureHardwareAI CareersAboutSubscribeThe BatchTech & SocietyArticleAI’s Path to Zero Emissions Is Cloudy AI and data center boom challenges big tech's emissions targetsTech & SocietyScience#Import 2025-06-13 02:32PublishedJul 10, 2024Reading time3 min readShareThe boom in AI is jeopardizing big tech’s efforts to reach its targets for emissions of greenhouse gasses.What’s new:\\xa0Google’s\\xa0annual environmental report\\xa0shows that the company’s total carbon dioxide emissions rose nearly 50 percent between 2019 and 2023 to 14.3 million tons. Google attributes the rise to its efforts to satisfy rising demand for AI.\\xa0How it works:\\xa0Google’s carbon\", \"AI and Data Center Boom Challenges Big Tech's Emissions Targets✨ New course! Enroll in Building with Llama 4Explore CoursesAI NewsletterThe BatchAndrew's LetterData PointsML ResearchBlogCommunityForumEventsAmbassadorsAmbassador SpotlightResourcesCompanyAboutCareersContactStart LearningWeekly IssuesAndrew's LettersData PointsML ResearchBusinessScienceCultureHardwareAI CareersAboutSubscribeThe BatchTech & SocietyArticleAI’s Path to Zero Emissions Is Cloudy AI and data center boom challenges big tech's emissions targetsTech & SocietyScience#Import 2025-06-13 02:32PublishedJul 10, 2024Reading time3 min readShareThe boom in AI is jeopardizing big tech’s efforts to reach its targets for emissions of greenhouse gasses.What’s new:\\xa0Google’s\\xa0annual environmental report\\xa0shows that the company’s total carbon dioxide emissions rose nearly 50 percent between 2019 and 2023 to 14.3 million tons. Google attributes the rise to its efforts to satisfy rising demand for AI.\\xa0How it works:\\xa0Google’s carbon\", 'relieved to note that, for now, data centers and cloud computing are responsible for\\xa0 1 percent \\xa0of the world’s energy-related greenhouse gas emissions; a drop in the bucket compared to transportation, construction, or agriculture. Moreover, we believe that AI stands to create huge benefits relative to the climate impact of its emissions, and AI is one of the most powerful tools we have to develop low-carbon energy sources and boost energy efficiency throughout society. Continuing to improve the technology will help us develop lower-carbon energy sources and efficient ways to harness them.', 'relieved to note that, for now, data centers and cloud computing are responsible for\\xa0 1 percent \\xa0of the world’s energy-related greenhouse gas emissions; a drop in the bucket compared to transportation, construction, or agriculture. Moreover, we believe that AI stands to create huge benefits relative to the climate impact of its emissions, and AI is one of the most powerful tools we have to develop low-carbon energy sources and boost energy efficiency throughout society. Continuing to improve the technology will help us develop lower-carbon energy sources and efficient ways to harness them.', 'relieved to note that, for now, data centers and cloud computing are responsible for\\xa0 1 percent \\xa0of the world’s energy-related greenhouse gas emissions; a drop in the bucket compared to transportation, construction, or agriculture. Moreover, we believe that AI stands to create huge benefits relative to the climate impact of its emissions, and AI is one of the most powerful tools we have to develop low-carbon energy sources and boost energy efficiency throughout society. Continuing to improve the technology will help us develop lower-carbon energy sources and efficient ways to harness them.', 'experience mirrors that of Amazon and Microsoft, which aim to reach net-zero carbon emissions by 2030 and 2040 respectively. Amazon’s emissions\\xa0 increased \\xa039 percent from 2019 to 2022, while Microsoft’s emissions\\xa0 rose \\xa029 percent between 2020 and 2023. (Amazon’s and Microsoft’s cloud computing revenues were roughly triple Google’s in 2023 and thus their AI-related greenhouse case emissions\\xa0 presumably were larger.) Why it matters: \\xa0Growing use of AI means greater consumption of energy. The tech giants’ ambitious emissions goals predate the rapid growth of generative AI, and their latest reports show that it’s time to rethink them. This adds urgency to already critical efforts to develop renewable and other low-emissions energy sources.\\xa0 We’re thinking: \\xa0We applaud Google’s efforts to cut its carbon emissions and its transparency in issuing annual environmental reports. We’re somewhat relieved to note that, for now, data centers and cloud computing are responsible for\\xa0 1 percent \\xa0of']], 'uris': None, 'included': ['metadatas', 'documents', 'distances'], 'data': None, 'metadatas': [[{'source': 'https://www.deeplearning.ai/the-batch/ai-and-data-center-boom-challenges-big-techs-emissions-targets/', 'title': \"AI and Data Center Boom Challenges Big Tech's Emissions Targets\", 'type': 'text'}, {'source': 'https://www.deeplearning.ai/the-batch/ai-and-data-center-boom-challenges-big-techs-emissions-targets/', 'type': 'text', 'title': \"AI and Data Center Boom Challenges Big Tech's Emissions Targets\"}, {'title': \"AI and Data Center Boom Challenges Big Tech's Emissions Targets\", 'source': 'https://www.deeplearning.ai/the-batch/ai-and-data-center-boom-challenges-big-techs-emissions-targets/', 'type': 'text'}, {'source': 'https://www.deeplearning.ai/the-batch/ai-and-data-center-boom-challenges-big-techs-emissions-targets/', 'type': 'text', 'title': \"AI and Data Center Boom Challenges Big Tech's Emissions Targets\"}, {'type': 'text', 'source': 'https://www.deeplearning.ai/the-batch/ai-and-data-center-boom-challenges-big-techs-emissions-targets/', 'title': \"AI and Data Center Boom Challenges Big Tech's Emissions Targets\"}, {'type': 'text', 'title': \"AI and Data Center Boom Challenges Big Tech's Emissions Targets\", 'source': 'https://www.deeplearning.ai/the-batch/ai-and-data-center-boom-challenges-big-techs-emissions-targets/'}, {'source': 'https://www.deeplearning.ai/the-batch/the-international-energy-agency-examines-the-energy-costs-and-potential-savings-of-the-ai-boom/', 'type': 'text', 'title': 'The International Energy Agency Examines The Energy Costs and Potential Savings of the AI Boom'}, {'type': 'text', 'source': 'https://www.deeplearning.ai/the-batch/the-international-energy-agency-examines-the-energy-costs-and-potential-savings-of-the-ai-boom/', 'title': 'The International Energy Agency Examines The Energy Costs and Potential Savings of the AI Boom'}, {'type': 'text', 'title': 'The International Energy Agency Examines The Energy Costs and Potential Savings of the AI Boom', 'source': 'https://www.deeplearning.ai/the-batch/the-international-energy-agency-examines-the-energy-costs-and-potential-savings-of-the-ai-boom/'}, {'title': 'The International Energy Agency Examines The Energy Costs and Potential Savings of the AI Boom', 'source': 'https://www.deeplearning.ai/the-batch/the-international-energy-agency-examines-the-energy-costs-and-potential-savings-of-the-ai-boom/', 'type': 'text'}]], 'distances': [[1.2795339822769165, 1.2795339822769165, 1.2795339822769165, 1.3162915706634521, 1.3162915706634521, 1.3162915706634521, 1.3231486082077026, 1.3231486082077026, 1.3231486082077026, 1.329979658126831]]}\n"
     ]
    }
   ],
   "source": [
    "#тест на тексті\n",
    "results = collection.query(\n",
    "    query_texts=[\"lion roar\"]\n",
    ")\n",
    "\n",
    "print((results))"
   ]
  },
  {
   "cell_type": "code",
   "execution_count": 37,
   "id": "ad7c8606",
   "metadata": {},
   "outputs": [
    {
     "name": "stdout",
     "output_type": "stream",
     "text": [
      "relieved to note that, for now, data centers and cloud computing are responsible for  1 percent  of the world’s energy-related greenhouse gas emissions; a drop in the bucket compared to transportation, construction, or agriculture. Moreover, we believe that AI stands to create huge benefits relative to the climate impact of its emissions, and AI is one of the most powerful tools we have to develop low-carbon energy sources and boost energy efficiency throughout society. Continuing to improve the technology will help us develop lower-carbon energy sources and efficient ways to harness them.\n"
     ]
    }
   ],
   "source": [
    "docs = results.get('documents', [[]])[0]  # перший список документів\n",
    "\n",
    "first_non_none_doc = next((doc for doc in docs if doc is not None), None)\n",
    "print(first_non_none_doc)"
   ]
  },
  {
   "cell_type": "code",
   "execution_count": null,
   "id": "b11d62ab",
   "metadata": {},
   "outputs": [],
   "source": [
    "first_metadata = results['metadatas'][0][0]\n",
    "first_source = first_metadata.get('source')\n",
    "first_source"
   ]
  },
  {
   "cell_type": "code",
   "execution_count": null,
   "id": "aedeab13",
   "metadata": {},
   "outputs": [],
   "source": [
    "results_imgs = collection.get(\n",
    "    where={\n",
    "        \"$and\": [\n",
    "            {\"source\": first_source},\n",
    "            {\"type\": \"image\"}\n",
    "        ]\n",
    "    }\n",
    ")"
   ]
  },
  {
   "cell_type": "markdown",
   "id": "0a3e8030",
   "metadata": {},
   "source": [
    "вивести зображення"
   ]
  },
  {
   "cell_type": "code",
   "execution_count": null,
   "id": "7a3c596e",
   "metadata": {},
   "outputs": [],
   "source": [
    "def find_file_by_prefix(prefix, folder):\n",
    "    for filename in os.listdir(folder):\n",
    "        if filename.startswith(prefix):\n",
    "            return os.path.join(folder, filename)\n",
    "    return None\n",
    "\n",
    "for img_id in results_imgs['ids']:\n",
    "    filepath = find_file_by_prefix(img_id, img_dir)\n",
    "    if filepath and os.path.exists(filepath):\n",
    "        img = Image.open(filepath)\n",
    "        img.show()\n",
    "    else:\n",
    "        print(f\"Файл для {img_id} не знайдено\")\n",
    "filepath        "
   ]
  },
  {
   "cell_type": "markdown",
   "id": "d0fc5745",
   "metadata": {},
   "source": [
    "### LLM"
   ]
  },
  {
   "cell_type": "markdown",
   "id": "7dc0a479",
   "metadata": {},
   "source": [
    "лише текст"
   ]
  },
  {
   "cell_type": "code",
   "execution_count": null,
   "id": "6010b19c",
   "metadata": {},
   "outputs": [],
   "source": [
    "client = genai.Client(api_key=api_key)\n",
    "\n",
    "with open(filepath, 'rb') as f:\n",
    "      image_bytes = f.read()\n",
    "query = \"How is AI growth impacting tech companies' carbon goals and data center emissions?\"\n",
    "\n",
    "response = client.models.generate_content(\n",
    "    model=\"gemini-2.5-flash\", \n",
    "    contents=[\n",
    "        types.Part(text=(\n",
    "            \"You are given a piece of text and an image. \"\n",
    "            \"Based on both, provide a clear, structured, and factual response to the following query.\\n\\n\"\n",
    "            \"Context:\\n\"\n",
    "            f\"{results['documents'][0][0]}\\n\\n\"\n",
    "            \"Query:\\n\"\n",
    "            f\"{query}\\n\"\n",
    "            \"Use only the information available in the context and image. If you cannot answer based on that, say so honestly.\"\n",
    "        )),\n",
    "        types.Part.from_bytes(\n",
    "            data=image_bytes,\n",
    "            mime_type='image/jpeg',\n",
    "        ),\n",
    "    ]\n",
    ")\n",
    "print(response.text)"
   ]
  }
 ],
 "metadata": {
  "kernelspec": {
   "display_name": "rag_env",
   "language": "python",
   "name": "python3"
  },
  "language_info": {
   "codemirror_mode": {
    "name": "ipython",
    "version": 3
   },
   "file_extension": ".py",
   "mimetype": "text/x-python",
   "name": "python",
   "nbconvert_exporter": "python",
   "pygments_lexer": "ipython3",
   "version": "3.11.13"
  }
 },
 "nbformat": 4,
 "nbformat_minor": 5
}
